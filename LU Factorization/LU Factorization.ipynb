{
 "cells": [
  {
   "cell_type": "code",
   "execution_count": 1,
   "metadata": {},
   "outputs": [],
   "source": [
    "import numpy as np"
   ]
  },
  {
   "cell_type": "code",
   "execution_count": 2,
   "metadata": {},
   "outputs": [],
   "source": [
    "def LU_factor(A):\n",
    "    \n",
    "    n = A.shape[0] \n",
    "    U = A.copy()\n",
    "    L = np.eye(n)\n",
    "    \n",
    "    for i in range(n):\n",
    "        temp = U[i+1:, i] / U[i, i]\n",
    "        L[i+1:, i] = temp\n",
    "        tmp = np.zeros((len(temp), n))\n",
    "        for j in range(len(temp)):\n",
    "            tmp[j, :] = temp[j]\n",
    "        U[i+1:] -= tmp * U[i]\n",
    "        \n",
    "    return L, U"
   ]
  },
  {
   "cell_type": "code",
   "execution_count": 3,
   "metadata": {},
   "outputs": [],
   "source": [
    "def lu_factor2(A):\n",
    " \n",
    "    n = A.shape[0]\n",
    "    L = np.zeros((n, n))\n",
    "    U = np.zeros((n, n))\n",
    "    \n",
    "    for i in range(n):\n",
    "        L[i, i] = 1\n",
    "        U[i, i] = (A[i, i] -(L[i, :i] @ U[:i, i])) / L[i, i]\n",
    "        for j in range(i+1, n):\n",
    "            U[i, j] = (A[i, j] - (L[i, :i] @ U[:i, j])) / L[i, i]\n",
    "        for k in range(i+1, n):\n",
    "            L[k, i] = (A[k, i] - (L[k, :i] @ U[:i, i])) / U[i, i]\n",
    "    return L, U"
   ]
  },
  {
   "cell_type": "code",
   "execution_count": 4,
   "metadata": {},
   "outputs": [],
   "source": [
    "def forward_substitution(L, b):\n",
    "   \n",
    "    n = L.shape[0]\n",
    "    y = np.zeros_like(b, dtype=np.double);\n",
    "  \n",
    "    y[0] = b[0] / L[0, 0]\n",
    "    \n",
    "    for i in range(1, n):\n",
    "        y[i] = (b[i] - (L[i,:i] @ y[:i])) / L[i,i]\n",
    "        \n",
    "    return  y"
   ]
  },
  {
   "cell_type": "code",
   "execution_count": 5,
   "metadata": {},
   "outputs": [],
   "source": [
    "def back_substitution(U, y):\n",
    "    \n",
    "    n = U.shape[0]\n",
    "    x = np.zeros_like(y, dtype=np.double);\n",
    "\n",
    "    x[-1] = y[-1] / U[-1, -1]\n",
    "    \n",
    "    for i in range(n-2, -1, -1):\n",
    "        x[i] = (y[i] - (U[i,i:] @ x[i:])) / U[i,i]\n",
    "        \n",
    "    return x"
   ]
  },
  {
   "cell_type": "code",
   "execution_count": 6,
   "metadata": {},
   "outputs": [
    {
     "name": "stdout",
     "output_type": "stream",
     "text": [
      "3 5\n",
      "5 6 2\n",
      "4 5 2\n",
      "2 4 8\n",
      "18 7 2\n",
      "4 5 8\n",
      "15 7 6\n",
      "11 9 5\n",
      "13 12 12\n",
      "75.0 -64.0 13.5\n",
      "-14.0 13.0 -2.0\n",
      "53.0 -45.0 10.0\n",
      "0.5 1.5 -0.25\n",
      "-10.0 11.0 -1.5\n"
     ]
    }
   ],
   "source": [
    "n, m = map(int, input().split())\n",
    "A = np.zeros((n, n))\n",
    "result = []\n",
    "for i in range(n):\n",
    "    A[i] = np.array(list(map(int, input().split())))\n",
    "for i in range(m):\n",
    "    b = np.array(list(map(int, input().split()))).T\n",
    "    L, U = LU_factor(A)\n",
    "    y = forward_substitution(L, b)\n",
    "    x = back_substitution(U, y)\n",
    "    x = np.round(x, 2)\n",
    "    result.append(' '.join(map(str, x.T)))\n",
    "print('\\n'.join(map(str, result)))"
   ]
  },
  {
   "cell_type": "code",
   "execution_count": null,
   "metadata": {},
   "outputs": [],
   "source": []
  }
 ],
 "metadata": {
  "kernelspec": {
   "display_name": "Python 3",
   "language": "python",
   "name": "python3"
  },
  "language_info": {
   "codemirror_mode": {
    "name": "ipython",
    "version": 3
   },
   "file_extension": ".py",
   "mimetype": "text/x-python",
   "name": "python",
   "nbconvert_exporter": "python",
   "pygments_lexer": "ipython3",
   "version": "3.8.5"
  }
 },
 "nbformat": 4,
 "nbformat_minor": 4
}
